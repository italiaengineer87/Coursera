{
 "cells": [
  {
   "cell_type": "markdown",
   "id": "aa2a787e-f872-467a-a64f-140fba6a1247",
   "metadata": {},
   "source": [
    "# Data Science Tools and Ecosystem"
   ]
  },
  {
   "cell_type": "markdown",
   "id": "54f5d6e9-c1c6-47f6-b707-0c60ae93ee9d",
   "metadata": {},
   "source": [
    "In this notebook, Data Science Tools and Ecosystem are summarized."
   ]
  },
  {
   "cell_type": "markdown",
   "id": "bc71f92c-0da0-409c-922d-dc2c39b414b0",
   "metadata": {},
   "source": [
    "**Objectives:**\n",
    "- List several popular languages for Data Science\n",
    "- List several libraries used for Data Science\n",
    "- List several Data Science Tools avaiable\n",
    "- Perform several mathmatical functions"
   ]
  },
  {
   "cell_type": "markdown",
   "id": "dff48b35-4288-45e9-a455-ecd6003dd931",
   "metadata": {},
   "source": [
    "Some of the popular languages that Data Scientists use are:\n",
    "1. Python\n",
    "2. SQL\n",
    "3. R"
   ]
  },
  {
   "cell_type": "markdown",
   "id": "d8c1be73-c342-4e62-a059-b5913bfda7e2",
   "metadata": {},
   "source": [
    "Some of the commonly used libraries used by Data Scientists include:\n",
    "1. Numpy\n",
    "2. Scipy\n",
    "3. TensorFlow"
   ]
  },
  {
   "cell_type": "markdown",
   "id": "aeec8bdc-42b3-40c3-826f-cc63e214b5e0",
   "metadata": {},
   "source": [
    "|Data Science Tools|\n",
    "|------|\n",
    "|Jupiter Notebooks|\n",
    "|RStudio|\n",
    "|PyCharm|"
   ]
  },
  {
   "cell_type": "markdown",
   "id": "a3f83977-fb2e-4154-8e11-290c50569684",
   "metadata": {},
   "source": [
    "### Below are a few examples of evaluating arithmetic expressions in Python"
   ]
  },
  {
   "cell_type": "code",
   "execution_count": 15,
   "id": "aa3b85d1-3346-4047-8a9d-96d142cf3964",
   "metadata": {},
   "outputs": [
    {
     "data": {
      "text/plain": [
       "17"
      ]
     },
     "execution_count": 15,
     "metadata": {},
     "output_type": "execute_result"
    }
   ],
   "source": [
    "### This a simple arithmetic expression to mutiply then add integers\n",
    "(3*4)+5"
   ]
  },
  {
   "cell_type": "code",
   "execution_count": 19,
   "id": "31ab039a-a5fa-4db1-a417-96a28e3d0753",
   "metadata": {},
   "outputs": [
    {
     "data": {
      "text/plain": [
       "3.3333333333333335"
      ]
     },
     "execution_count": 19,
     "metadata": {},
     "output_type": "execute_result"
    }
   ],
   "source": [
    "###This will convert 200 minutes to hours by diving by 60\n",
    "200/60"
   ]
  },
  {
   "cell_type": "markdown",
   "id": "ea4e1739-f40b-4f11-ab9a-b9b0df5c10bc",
   "metadata": {},
   "source": [
    "## Author ##\n",
    "Steven Mancini"
   ]
  },
  {
   "cell_type": "code",
   "execution_count": null,
   "id": "ff8fc386-ff91-49cd-8b4e-69aefcf0328c",
   "metadata": {},
   "outputs": [],
   "source": []
  }
 ],
 "metadata": {
  "kernelspec": {
   "display_name": "Python [conda env:base] *",
   "language": "python",
   "name": "conda-base-py"
  },
  "language_info": {
   "codemirror_mode": {
    "name": "ipython",
    "version": 3
   },
   "file_extension": ".py",
   "mimetype": "text/x-python",
   "name": "python",
   "nbconvert_exporter": "python",
   "pygments_lexer": "ipython3",
   "version": "3.12.7"
  }
 },
 "nbformat": 4,
 "nbformat_minor": 5
}
